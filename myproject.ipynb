{
  "nbformat": 4,
  "nbformat_minor": 0,
  "metadata": {
    "anaconda-cloud": {},
    "kernelspec": {
      "display_name": "Python 3",
      "language": "python",
      "name": "python3"
    },
    "language_info": {
      "codemirror_mode": {
        "name": "ipython",
        "version": 3
      },
      "file_extension": ".py",
      "mimetype": "text/x-python",
      "name": "python",
      "nbconvert_exporter": "python",
      "pygments_lexer": "ipython3",
      "version": "3.6.0"
    },
    "colab": {
      "name": "myproject.ipynb",
      "provenance": [],
      "collapsed_sections": []
    }
  },
  "cells": [
    {
      "cell_type": "code",
      "metadata": {
        "id": "OQRTgG0EHGnw"
      },
      "source": [
        "from datetime import datetime\n",
        "from datetime import date\n",
        "import pandas as pd\n",
        "import numpy as np\n",
        "import matplotlib.pyplot as plt\n",
        "import seaborn as sns\n",
        "\n",
        "\n",
        "%matplotlib inline"
      ],
      "execution_count": 1,
      "outputs": []
    },
    {
      "cell_type": "code",
      "metadata": {
        "collapsed": true,
        "id": "Z1u-llbCHGnz"
      },
      "source": [
        "def read_mta(file_nums):\n",
        "    path ='http://web.mta.info/developers/data/nyct/turnstile/turnstile_'\n",
        "    allFiles = []\n",
        "    for i in file_nums:\n",
        "        allFiles.append(path + i + \".txt\")\n",
        "    df_list = [pd.read_csv(file) for file in allFiles]\n",
        "    df = pd.concat(df_list)\n",
        "    df.columns = df.columns.str.strip()\n",
        "    return df"
      ],
      "execution_count": 2,
      "outputs": []
    },
    {
      "cell_type": "code",
      "metadata": {
        "id": "rEn3NEk8HGnz"
      },
      "source": [
        "# 3 months data\n",
        "df = read_mta(['190105', '190112', '190119', '190126', '190202', '190209', '190216', '190223', '190302', '190309', '190316', '190323', '190330'])"
      ],
      "execution_count": 3,
      "outputs": []
    },
    {
      "cell_type": "code",
      "metadata": {
        "colab": {
          "base_uri": "https://localhost:8080/"
        },
        "id": "NJbPJLXeHGnz",
        "outputId": "2edc88f8-24da-4cf5-8cde-80dabdf70b60"
      },
      "source": [
        "#تطلع الكولوم\n",
        "df.columns"
      ],
      "execution_count": 4,
      "outputs": [
        {
          "output_type": "execute_result",
          "data": {
            "text/plain": [
              "Index(['C/A', 'UNIT', 'SCP', 'STATION', 'LINENAME', 'DIVISION', 'DATE', 'TIME',\n",
              "       'DESC', 'ENTRIES', 'EXITS'],\n",
              "      dtype='object')"
            ]
          },
          "metadata": {},
          "execution_count": 4
        }
      ]
    },
    {
      "cell_type": "code",
      "metadata": {
        "colab": {
          "base_uri": "https://localhost:8080/",
          "height": 205
        },
        "id": "GwhIaXYzHGn0",
        "outputId": "1149132f-6513-4e55-d05b-63f09ac9e7ae"
      },
      "source": [
        "# remove duplicates\n",
        " # يحذف الريكوفر اوديت\n",
        "df = df[df.DESC != 'RECOVR AUD']\n",
        "df = df[df.TIME != '04:00:00']\n",
        "# Sanity check to verify that \"C/A\", \"UNIT\", \"SCP\", \"STATION\", \"DATE_TIME\" is unique\n",
        "(df\n",
        " .groupby(['C/A', 'UNIT', 'SCP', 'STATION', 'DATE', 'TIME'])\n",
        " .ENTRIES.count()\n",
        " .reset_index()\n",
        " .sort_values(\"ENTRIES\", ascending=False)).head()"
      ],
      "execution_count": 5,
      "outputs": [
        {
          "output_type": "execute_result",
          "data": {
            "text/html": [
              "<div>\n",
              "<style scoped>\n",
              "    .dataframe tbody tr th:only-of-type {\n",
              "        vertical-align: middle;\n",
              "    }\n",
              "\n",
              "    .dataframe tbody tr th {\n",
              "        vertical-align: top;\n",
              "    }\n",
              "\n",
              "    .dataframe thead th {\n",
              "        text-align: right;\n",
              "    }\n",
              "</style>\n",
              "<table border=\"1\" class=\"dataframe\">\n",
              "  <thead>\n",
              "    <tr style=\"text-align: right;\">\n",
              "      <th></th>\n",
              "      <th>C/A</th>\n",
              "      <th>UNIT</th>\n",
              "      <th>SCP</th>\n",
              "      <th>STATION</th>\n",
              "      <th>DATE</th>\n",
              "      <th>TIME</th>\n",
              "      <th>ENTRIES</th>\n",
              "    </tr>\n",
              "  </thead>\n",
              "  <tbody>\n",
              "    <tr>\n",
              "      <th>0</th>\n",
              "      <td>A002</td>\n",
              "      <td>R051</td>\n",
              "      <td>02-00-00</td>\n",
              "      <td>59 ST</td>\n",
              "      <td>01/01/2019</td>\n",
              "      <td>03:00:00</td>\n",
              "      <td>1</td>\n",
              "    </tr>\n",
              "    <tr>\n",
              "      <th>1634776</th>\n",
              "      <td>R138</td>\n",
              "      <td>R293</td>\n",
              "      <td>00-02-01</td>\n",
              "      <td>34 ST-PENN STA</td>\n",
              "      <td>03/08/2019</td>\n",
              "      <td>01:00:00</td>\n",
              "      <td>1</td>\n",
              "    </tr>\n",
              "    <tr>\n",
              "      <th>1634778</th>\n",
              "      <td>R138</td>\n",
              "      <td>R293</td>\n",
              "      <td>00-02-01</td>\n",
              "      <td>34 ST-PENN STA</td>\n",
              "      <td>03/08/2019</td>\n",
              "      <td>09:00:00</td>\n",
              "      <td>1</td>\n",
              "    </tr>\n",
              "    <tr>\n",
              "      <th>1634779</th>\n",
              "      <td>R138</td>\n",
              "      <td>R293</td>\n",
              "      <td>00-02-01</td>\n",
              "      <td>34 ST-PENN STA</td>\n",
              "      <td>03/08/2019</td>\n",
              "      <td>13:00:00</td>\n",
              "      <td>1</td>\n",
              "    </tr>\n",
              "    <tr>\n",
              "      <th>1634780</th>\n",
              "      <td>R138</td>\n",
              "      <td>R293</td>\n",
              "      <td>00-02-01</td>\n",
              "      <td>34 ST-PENN STA</td>\n",
              "      <td>03/08/2019</td>\n",
              "      <td>17:00:00</td>\n",
              "      <td>1</td>\n",
              "    </tr>\n",
              "  </tbody>\n",
              "</table>\n",
              "</div>"
            ],
            "text/plain": [
              "          C/A  UNIT       SCP         STATION        DATE      TIME  ENTRIES\n",
              "0        A002  R051  02-00-00           59 ST  01/01/2019  03:00:00        1\n",
              "1634776  R138  R293  00-02-01  34 ST-PENN STA  03/08/2019  01:00:00        1\n",
              "1634778  R138  R293  00-02-01  34 ST-PENN STA  03/08/2019  09:00:00        1\n",
              "1634779  R138  R293  00-02-01  34 ST-PENN STA  03/08/2019  13:00:00        1\n",
              "1634780  R138  R293  00-02-01  34 ST-PENN STA  03/08/2019  17:00:00        1"
            ]
          },
          "metadata": {},
          "execution_count": 5
        }
      ]
    },
    {
      "cell_type": "code",
      "metadata": {
        "colab": {
          "base_uri": "https://localhost:8080/",
          "height": 205
        },
        "id": "4EVCN-wcHGn1",
        "outputId": "2f00575c-ad47-4f3e-ea9f-9d411e766ff1"
      },
      "source": [
        "# data is at a turnstile level\n",
        "df.head()"
      ],
      "execution_count": 6,
      "outputs": [
        {
          "output_type": "execute_result",
          "data": {
            "text/html": [
              "<div>\n",
              "<style scoped>\n",
              "    .dataframe tbody tr th:only-of-type {\n",
              "        vertical-align: middle;\n",
              "    }\n",
              "\n",
              "    .dataframe tbody tr th {\n",
              "        vertical-align: top;\n",
              "    }\n",
              "\n",
              "    .dataframe thead th {\n",
              "        text-align: right;\n",
              "    }\n",
              "</style>\n",
              "<table border=\"1\" class=\"dataframe\">\n",
              "  <thead>\n",
              "    <tr style=\"text-align: right;\">\n",
              "      <th></th>\n",
              "      <th>C/A</th>\n",
              "      <th>UNIT</th>\n",
              "      <th>SCP</th>\n",
              "      <th>STATION</th>\n",
              "      <th>LINENAME</th>\n",
              "      <th>DIVISION</th>\n",
              "      <th>DATE</th>\n",
              "      <th>TIME</th>\n",
              "      <th>DESC</th>\n",
              "      <th>ENTRIES</th>\n",
              "      <th>EXITS</th>\n",
              "    </tr>\n",
              "  </thead>\n",
              "  <tbody>\n",
              "    <tr>\n",
              "      <th>0</th>\n",
              "      <td>A002</td>\n",
              "      <td>R051</td>\n",
              "      <td>02-00-00</td>\n",
              "      <td>59 ST</td>\n",
              "      <td>NQR456W</td>\n",
              "      <td>BMT</td>\n",
              "      <td>12/29/2018</td>\n",
              "      <td>03:00:00</td>\n",
              "      <td>REGULAR</td>\n",
              "      <td>6889287</td>\n",
              "      <td>2335920</td>\n",
              "    </tr>\n",
              "    <tr>\n",
              "      <th>1</th>\n",
              "      <td>A002</td>\n",
              "      <td>R051</td>\n",
              "      <td>02-00-00</td>\n",
              "      <td>59 ST</td>\n",
              "      <td>NQR456W</td>\n",
              "      <td>BMT</td>\n",
              "      <td>12/29/2018</td>\n",
              "      <td>07:00:00</td>\n",
              "      <td>REGULAR</td>\n",
              "      <td>6889299</td>\n",
              "      <td>2335936</td>\n",
              "    </tr>\n",
              "    <tr>\n",
              "      <th>2</th>\n",
              "      <td>A002</td>\n",
              "      <td>R051</td>\n",
              "      <td>02-00-00</td>\n",
              "      <td>59 ST</td>\n",
              "      <td>NQR456W</td>\n",
              "      <td>BMT</td>\n",
              "      <td>12/29/2018</td>\n",
              "      <td>11:00:00</td>\n",
              "      <td>REGULAR</td>\n",
              "      <td>6889364</td>\n",
              "      <td>2336038</td>\n",
              "    </tr>\n",
              "    <tr>\n",
              "      <th>3</th>\n",
              "      <td>A002</td>\n",
              "      <td>R051</td>\n",
              "      <td>02-00-00</td>\n",
              "      <td>59 ST</td>\n",
              "      <td>NQR456W</td>\n",
              "      <td>BMT</td>\n",
              "      <td>12/29/2018</td>\n",
              "      <td>15:00:00</td>\n",
              "      <td>REGULAR</td>\n",
              "      <td>6889605</td>\n",
              "      <td>2336101</td>\n",
              "    </tr>\n",
              "    <tr>\n",
              "      <th>4</th>\n",
              "      <td>A002</td>\n",
              "      <td>R051</td>\n",
              "      <td>02-00-00</td>\n",
              "      <td>59 ST</td>\n",
              "      <td>NQR456W</td>\n",
              "      <td>BMT</td>\n",
              "      <td>12/29/2018</td>\n",
              "      <td>19:00:00</td>\n",
              "      <td>REGULAR</td>\n",
              "      <td>6889966</td>\n",
              "      <td>2336173</td>\n",
              "    </tr>\n",
              "  </tbody>\n",
              "</table>\n",
              "</div>"
            ],
            "text/plain": [
              "    C/A  UNIT       SCP STATION  ...      TIME     DESC  ENTRIES    EXITS\n",
              "0  A002  R051  02-00-00   59 ST  ...  03:00:00  REGULAR  6889287  2335920\n",
              "1  A002  R051  02-00-00   59 ST  ...  07:00:00  REGULAR  6889299  2335936\n",
              "2  A002  R051  02-00-00   59 ST  ...  11:00:00  REGULAR  6889364  2336038\n",
              "3  A002  R051  02-00-00   59 ST  ...  15:00:00  REGULAR  6889605  2336101\n",
              "4  A002  R051  02-00-00   59 ST  ...  19:00:00  REGULAR  6889966  2336173\n",
              "\n",
              "[5 rows x 11 columns]"
            ]
          },
          "metadata": {},
          "execution_count": 6
        }
      ]
    },
    {
      "cell_type": "code",
      "metadata": {
        "collapsed": true,
        "id": "odYQRgfbHGn2"
      },
      "source": [
        "df['DATETIME'] = pd.to_datetime(df.DATE + ' ' + df.TIME)"
      ],
      "execution_count": 7,
      "outputs": []
    },
    {
      "cell_type": "code",
      "metadata": {
        "id": "S0loYw7BHGn2"
      },
      "source": [
        "df = df.set_index(['DATETIME'])\n"
      ],
      "execution_count": 8,
      "outputs": []
    },
    {
      "cell_type": "code",
      "metadata": {
        "colab": {
          "base_uri": "https://localhost:8080/",
          "height": 236
        },
        "id": "tADqUFZbHGn3",
        "outputId": "422e0942-7fe7-4e99-d3cb-01e78d04c197"
      },
      "source": [
        "# filter dataset to 4am to 12pm\n",
        "morning = df.between_time('04:00:00', '12:00:00')\n",
        "morning.head()"
      ],
      "execution_count": 9,
      "outputs": [
        {
          "output_type": "execute_result",
          "data": {
            "text/html": [
              "<div>\n",
              "<style scoped>\n",
              "    .dataframe tbody tr th:only-of-type {\n",
              "        vertical-align: middle;\n",
              "    }\n",
              "\n",
              "    .dataframe tbody tr th {\n",
              "        vertical-align: top;\n",
              "    }\n",
              "\n",
              "    .dataframe thead th {\n",
              "        text-align: right;\n",
              "    }\n",
              "</style>\n",
              "<table border=\"1\" class=\"dataframe\">\n",
              "  <thead>\n",
              "    <tr style=\"text-align: right;\">\n",
              "      <th></th>\n",
              "      <th>C/A</th>\n",
              "      <th>UNIT</th>\n",
              "      <th>SCP</th>\n",
              "      <th>STATION</th>\n",
              "      <th>LINENAME</th>\n",
              "      <th>DIVISION</th>\n",
              "      <th>DATE</th>\n",
              "      <th>TIME</th>\n",
              "      <th>DESC</th>\n",
              "      <th>ENTRIES</th>\n",
              "      <th>EXITS</th>\n",
              "    </tr>\n",
              "    <tr>\n",
              "      <th>DATETIME</th>\n",
              "      <th></th>\n",
              "      <th></th>\n",
              "      <th></th>\n",
              "      <th></th>\n",
              "      <th></th>\n",
              "      <th></th>\n",
              "      <th></th>\n",
              "      <th></th>\n",
              "      <th></th>\n",
              "      <th></th>\n",
              "      <th></th>\n",
              "    </tr>\n",
              "  </thead>\n",
              "  <tbody>\n",
              "    <tr>\n",
              "      <th>2018-12-29 07:00:00</th>\n",
              "      <td>A002</td>\n",
              "      <td>R051</td>\n",
              "      <td>02-00-00</td>\n",
              "      <td>59 ST</td>\n",
              "      <td>NQR456W</td>\n",
              "      <td>BMT</td>\n",
              "      <td>12/29/2018</td>\n",
              "      <td>07:00:00</td>\n",
              "      <td>REGULAR</td>\n",
              "      <td>6889299</td>\n",
              "      <td>2335936</td>\n",
              "    </tr>\n",
              "    <tr>\n",
              "      <th>2018-12-29 11:00:00</th>\n",
              "      <td>A002</td>\n",
              "      <td>R051</td>\n",
              "      <td>02-00-00</td>\n",
              "      <td>59 ST</td>\n",
              "      <td>NQR456W</td>\n",
              "      <td>BMT</td>\n",
              "      <td>12/29/2018</td>\n",
              "      <td>11:00:00</td>\n",
              "      <td>REGULAR</td>\n",
              "      <td>6889364</td>\n",
              "      <td>2336038</td>\n",
              "    </tr>\n",
              "    <tr>\n",
              "      <th>2018-12-30 07:00:00</th>\n",
              "      <td>A002</td>\n",
              "      <td>R051</td>\n",
              "      <td>02-00-00</td>\n",
              "      <td>59 ST</td>\n",
              "      <td>NQR456W</td>\n",
              "      <td>BMT</td>\n",
              "      <td>12/30/2018</td>\n",
              "      <td>07:00:00</td>\n",
              "      <td>REGULAR</td>\n",
              "      <td>6890237</td>\n",
              "      <td>2336242</td>\n",
              "    </tr>\n",
              "    <tr>\n",
              "      <th>2018-12-30 11:00:00</th>\n",
              "      <td>A002</td>\n",
              "      <td>R051</td>\n",
              "      <td>02-00-00</td>\n",
              "      <td>59 ST</td>\n",
              "      <td>NQR456W</td>\n",
              "      <td>BMT</td>\n",
              "      <td>12/30/2018</td>\n",
              "      <td>11:00:00</td>\n",
              "      <td>REGULAR</td>\n",
              "      <td>6890279</td>\n",
              "      <td>2336288</td>\n",
              "    </tr>\n",
              "    <tr>\n",
              "      <th>2018-12-31 07:00:00</th>\n",
              "      <td>A002</td>\n",
              "      <td>R051</td>\n",
              "      <td>02-00-00</td>\n",
              "      <td>59 ST</td>\n",
              "      <td>NQR456W</td>\n",
              "      <td>BMT</td>\n",
              "      <td>12/31/2018</td>\n",
              "      <td>07:00:00</td>\n",
              "      <td>REGULAR</td>\n",
              "      <td>6890942</td>\n",
              "      <td>2336469</td>\n",
              "    </tr>\n",
              "  </tbody>\n",
              "</table>\n",
              "</div>"
            ],
            "text/plain": [
              "                      C/A  UNIT       SCP  ...     DESC  ENTRIES    EXITS\n",
              "DATETIME                                   ...                           \n",
              "2018-12-29 07:00:00  A002  R051  02-00-00  ...  REGULAR  6889299  2335936\n",
              "2018-12-29 11:00:00  A002  R051  02-00-00  ...  REGULAR  6889364  2336038\n",
              "2018-12-30 07:00:00  A002  R051  02-00-00  ...  REGULAR  6890237  2336242\n",
              "2018-12-30 11:00:00  A002  R051  02-00-00  ...  REGULAR  6890279  2336288\n",
              "2018-12-31 07:00:00  A002  R051  02-00-00  ...  REGULAR  6890942  2336469\n",
              "\n",
              "[5 rows x 11 columns]"
            ]
          },
          "metadata": {},
          "execution_count": 9
        }
      ]
    },
    {
      "cell_type": "code",
      "metadata": {
        "id": "pNBh5ibhHGn3"
      },
      "source": [
        "# subtract max from min for each turnstile to get \n",
        "#hhhhhh\n",
        "morning_turn = (morning.groupby(['C/A', 'UNIT', 'SCP', 'STATION', 'DATE'])['ENTRIES'].max()\\\n",
        "           -morning.groupby(['C/A', 'UNIT', 'SCP', 'STATION', 'DATE'])['ENTRIES'].min()).reset_index()"
      ],
      "execution_count": 10,
      "outputs": []
    },
    {
      "cell_type": "code",
      "metadata": {
        "colab": {
          "base_uri": "https://localhost:8080/"
        },
        "id": "NEBQz9fzHGn3",
        "outputId": "3ca9e21a-d829-4383-e73a-c7ed90553dbf"
      },
      "source": [
        "#explore outliers\n",
        "morning_turn['ENTRIES'].describe()"
      ],
      "execution_count": 11,
      "outputs": [
        {
          "output_type": "execute_result",
          "data": {
            "text/plain": [
              "count    4.365940e+05\n",
              "mean     9.338581e+03\n",
              "std      3.881975e+06\n",
              "min      0.000000e+00\n",
              "25%      2.600000e+01\n",
              "50%      1.320000e+02\n",
              "75%      3.450000e+02\n",
              "max      1.949564e+09\n",
              "Name: ENTRIES, dtype: float64"
            ]
          },
          "metadata": {},
          "execution_count": 11
        }
      ]
    },
    {
      "cell_type": "code",
      "metadata": {
        "colab": {
          "base_uri": "https://localhost:8080/"
        },
        "id": "3m-rWkMXHGn4",
        "outputId": "4805c79d-8fdc-4953-f898-6c0b4c883cdc"
      },
      "source": [
        "morning_turn['ENTRIES'].sort_values(ascending = True).tail(6)"
      ],
      "execution_count": 12,
      "outputs": [
        {
          "output_type": "execute_result",
          "data": {
            "text/plain": [
              "391288      16983406\n",
              "6994        22166881\n",
              "7631        56868096\n",
              "385624      83886080\n",
              "3436      1663107536\n",
              "16256     1949564331\n",
              "Name: ENTRIES, dtype: int64"
            ]
          },
          "metadata": {},
          "execution_count": 12
        }
      ]
    },
    {
      "cell_type": "code",
      "metadata": {
        "id": "2kpMA5oukttc"
      },
      "source": [
        "# removing values that appear to be counter resets\n",
        "#hhhhhhh\n",
        "morning_turn = morning_turn[morning_turn.ENTRIES <= 11000]"
      ],
      "execution_count": 13,
      "outputs": []
    },
    {
      "cell_type": "code",
      "metadata": {
        "colab": {
          "base_uri": "https://localhost:8080/",
          "height": 205
        },
        "id": "BRXWIjyXHGn5",
        "outputId": "9eb1eeed-a6db-4483-913a-bd68c01f4421"
      },
      "source": [
        "morning_turn.head()\n"
      ],
      "execution_count": 14,
      "outputs": [
        {
          "output_type": "execute_result",
          "data": {
            "text/html": [
              "<div>\n",
              "<style scoped>\n",
              "    .dataframe tbody tr th:only-of-type {\n",
              "        vertical-align: middle;\n",
              "    }\n",
              "\n",
              "    .dataframe tbody tr th {\n",
              "        vertical-align: top;\n",
              "    }\n",
              "\n",
              "    .dataframe thead th {\n",
              "        text-align: right;\n",
              "    }\n",
              "</style>\n",
              "<table border=\"1\" class=\"dataframe\">\n",
              "  <thead>\n",
              "    <tr style=\"text-align: right;\">\n",
              "      <th></th>\n",
              "      <th>C/A</th>\n",
              "      <th>UNIT</th>\n",
              "      <th>SCP</th>\n",
              "      <th>STATION</th>\n",
              "      <th>DATE</th>\n",
              "      <th>ENTRIES</th>\n",
              "    </tr>\n",
              "  </thead>\n",
              "  <tbody>\n",
              "    <tr>\n",
              "      <th>0</th>\n",
              "      <td>A002</td>\n",
              "      <td>R051</td>\n",
              "      <td>02-00-00</td>\n",
              "      <td>59 ST</td>\n",
              "      <td>01/01/2019</td>\n",
              "      <td>41</td>\n",
              "    </tr>\n",
              "    <tr>\n",
              "      <th>1</th>\n",
              "      <td>A002</td>\n",
              "      <td>R051</td>\n",
              "      <td>02-00-00</td>\n",
              "      <td>59 ST</td>\n",
              "      <td>01/02/2019</td>\n",
              "      <td>123</td>\n",
              "    </tr>\n",
              "    <tr>\n",
              "      <th>2</th>\n",
              "      <td>A002</td>\n",
              "      <td>R051</td>\n",
              "      <td>02-00-00</td>\n",
              "      <td>59 ST</td>\n",
              "      <td>01/03/2019</td>\n",
              "      <td>127</td>\n",
              "    </tr>\n",
              "    <tr>\n",
              "      <th>3</th>\n",
              "      <td>A002</td>\n",
              "      <td>R051</td>\n",
              "      <td>02-00-00</td>\n",
              "      <td>59 ST</td>\n",
              "      <td>01/04/2019</td>\n",
              "      <td>0</td>\n",
              "    </tr>\n",
              "    <tr>\n",
              "      <th>4</th>\n",
              "      <td>A002</td>\n",
              "      <td>R051</td>\n",
              "      <td>02-00-00</td>\n",
              "      <td>59 ST</td>\n",
              "      <td>01/05/2019</td>\n",
              "      <td>60</td>\n",
              "    </tr>\n",
              "  </tbody>\n",
              "</table>\n",
              "</div>"
            ],
            "text/plain": [
              "    C/A  UNIT       SCP STATION        DATE  ENTRIES\n",
              "0  A002  R051  02-00-00   59 ST  01/01/2019       41\n",
              "1  A002  R051  02-00-00   59 ST  01/02/2019      123\n",
              "2  A002  R051  02-00-00   59 ST  01/03/2019      127\n",
              "3  A002  R051  02-00-00   59 ST  01/04/2019        0\n",
              "4  A002  R051  02-00-00   59 ST  01/05/2019       60"
            ]
          },
          "metadata": {},
          "execution_count": 14
        }
      ]
    },
    {
      "cell_type": "code",
      "metadata": {
        "colab": {
          "base_uri": "https://localhost:8080/",
          "height": 675
        },
        "id": "UUF4qJJyHGn5",
        "outputId": "19adcb82-34bf-4260-cb96-75e3623dde1c"
      },
      "source": [
        "# add up total morning Entries  per station\n",
        "morning_station = morning_turn.groupby(['STATION', 'DATE']).sum().reset_index()\n",
        "morning_station['DATE'] = pd.to_datetime(morning_station['DATE'])\n",
        "morning_station.head(20)"
      ],
      "execution_count": 15,
      "outputs": [
        {
          "output_type": "execute_result",
          "data": {
            "text/html": [
              "<div>\n",
              "<style scoped>\n",
              "    .dataframe tbody tr th:only-of-type {\n",
              "        vertical-align: middle;\n",
              "    }\n",
              "\n",
              "    .dataframe tbody tr th {\n",
              "        vertical-align: top;\n",
              "    }\n",
              "\n",
              "    .dataframe thead th {\n",
              "        text-align: right;\n",
              "    }\n",
              "</style>\n",
              "<table border=\"1\" class=\"dataframe\">\n",
              "  <thead>\n",
              "    <tr style=\"text-align: right;\">\n",
              "      <th></th>\n",
              "      <th>STATION</th>\n",
              "      <th>DATE</th>\n",
              "      <th>ENTRIES</th>\n",
              "    </tr>\n",
              "  </thead>\n",
              "  <tbody>\n",
              "    <tr>\n",
              "      <th>0</th>\n",
              "      <td>1 AV</td>\n",
              "      <td>2019-01-01</td>\n",
              "      <td>845</td>\n",
              "    </tr>\n",
              "    <tr>\n",
              "      <th>1</th>\n",
              "      <td>1 AV</td>\n",
              "      <td>2019-01-02</td>\n",
              "      <td>4359</td>\n",
              "    </tr>\n",
              "    <tr>\n",
              "      <th>2</th>\n",
              "      <td>1 AV</td>\n",
              "      <td>2019-01-03</td>\n",
              "      <td>4731</td>\n",
              "    </tr>\n",
              "    <tr>\n",
              "      <th>3</th>\n",
              "      <td>1 AV</td>\n",
              "      <td>2019-01-04</td>\n",
              "      <td>4614</td>\n",
              "    </tr>\n",
              "    <tr>\n",
              "      <th>4</th>\n",
              "      <td>1 AV</td>\n",
              "      <td>2019-01-05</td>\n",
              "      <td>1356</td>\n",
              "    </tr>\n",
              "    <tr>\n",
              "      <th>5</th>\n",
              "      <td>1 AV</td>\n",
              "      <td>2019-01-06</td>\n",
              "      <td>1044</td>\n",
              "    </tr>\n",
              "    <tr>\n",
              "      <th>6</th>\n",
              "      <td>1 AV</td>\n",
              "      <td>2019-01-07</td>\n",
              "      <td>5204</td>\n",
              "    </tr>\n",
              "    <tr>\n",
              "      <th>7</th>\n",
              "      <td>1 AV</td>\n",
              "      <td>2019-01-08</td>\n",
              "      <td>5168</td>\n",
              "    </tr>\n",
              "    <tr>\n",
              "      <th>8</th>\n",
              "      <td>1 AV</td>\n",
              "      <td>2019-01-09</td>\n",
              "      <td>5160</td>\n",
              "    </tr>\n",
              "    <tr>\n",
              "      <th>9</th>\n",
              "      <td>1 AV</td>\n",
              "      <td>2019-01-10</td>\n",
              "      <td>5134</td>\n",
              "    </tr>\n",
              "    <tr>\n",
              "      <th>10</th>\n",
              "      <td>1 AV</td>\n",
              "      <td>2019-01-11</td>\n",
              "      <td>5266</td>\n",
              "    </tr>\n",
              "    <tr>\n",
              "      <th>11</th>\n",
              "      <td>1 AV</td>\n",
              "      <td>2019-01-12</td>\n",
              "      <td>1510</td>\n",
              "    </tr>\n",
              "    <tr>\n",
              "      <th>12</th>\n",
              "      <td>1 AV</td>\n",
              "      <td>2019-01-13</td>\n",
              "      <td>1209</td>\n",
              "    </tr>\n",
              "    <tr>\n",
              "      <th>13</th>\n",
              "      <td>1 AV</td>\n",
              "      <td>2019-01-14</td>\n",
              "      <td>5204</td>\n",
              "    </tr>\n",
              "    <tr>\n",
              "      <th>14</th>\n",
              "      <td>1 AV</td>\n",
              "      <td>2019-01-15</td>\n",
              "      <td>5315</td>\n",
              "    </tr>\n",
              "    <tr>\n",
              "      <th>15</th>\n",
              "      <td>1 AV</td>\n",
              "      <td>2019-01-16</td>\n",
              "      <td>5306</td>\n",
              "    </tr>\n",
              "    <tr>\n",
              "      <th>16</th>\n",
              "      <td>1 AV</td>\n",
              "      <td>2019-01-17</td>\n",
              "      <td>5459</td>\n",
              "    </tr>\n",
              "    <tr>\n",
              "      <th>17</th>\n",
              "      <td>1 AV</td>\n",
              "      <td>2019-01-18</td>\n",
              "      <td>4995</td>\n",
              "    </tr>\n",
              "    <tr>\n",
              "      <th>18</th>\n",
              "      <td>1 AV</td>\n",
              "      <td>2019-01-19</td>\n",
              "      <td>1539</td>\n",
              "    </tr>\n",
              "    <tr>\n",
              "      <th>19</th>\n",
              "      <td>1 AV</td>\n",
              "      <td>2019-01-20</td>\n",
              "      <td>967</td>\n",
              "    </tr>\n",
              "  </tbody>\n",
              "</table>\n",
              "</div>"
            ],
            "text/plain": [
              "   STATION       DATE  ENTRIES\n",
              "0     1 AV 2019-01-01      845\n",
              "1     1 AV 2019-01-02     4359\n",
              "2     1 AV 2019-01-03     4731\n",
              "3     1 AV 2019-01-04     4614\n",
              "4     1 AV 2019-01-05     1356\n",
              "5     1 AV 2019-01-06     1044\n",
              "6     1 AV 2019-01-07     5204\n",
              "7     1 AV 2019-01-08     5168\n",
              "8     1 AV 2019-01-09     5160\n",
              "9     1 AV 2019-01-10     5134\n",
              "10    1 AV 2019-01-11     5266\n",
              "11    1 AV 2019-01-12     1510\n",
              "12    1 AV 2019-01-13     1209\n",
              "13    1 AV 2019-01-14     5204\n",
              "14    1 AV 2019-01-15     5315\n",
              "15    1 AV 2019-01-16     5306\n",
              "16    1 AV 2019-01-17     5459\n",
              "17    1 AV 2019-01-18     4995\n",
              "18    1 AV 2019-01-19     1539\n",
              "19    1 AV 2019-01-20      967"
            ]
          },
          "metadata": {},
          "execution_count": 15
        }
      ]
    },
    {
      "cell_type": "code",
      "metadata": {
        "collapsed": true,
        "id": "C7SHexyWHGn5"
      },
      "source": [
        "# summing for month\n",
        "morning_month = morning_station.groupby(['STATION'])['ENTRIES'].sum().reset_index()\n",
        "morning_month = morning_month.set_index('STATION')\n"
      ],
      "execution_count": 16,
      "outputs": []
    },
    {
      "cell_type": "code",
      "metadata": {
        "colab": {
          "base_uri": "https://localhost:8080/",
          "height": 311
        },
        "id": "p6nDXvLmHGn6",
        "outputId": "f2b52195-1466-4e84-e84b-80adab6e9ce9"
      },
      "source": [
        "# determine busiest stations\n",
        "\n",
        "topsts = morning_month.sort_values('ENTRIES', ascending=False).head(10)\n",
        "topsts.head()\n",
        "topsts.plot(kind='barh', title='Morning ENTRIES by Station')"
      ],
      "execution_count": 19,
      "outputs": [
        {
          "output_type": "execute_result",
          "data": {
            "text/plain": [
              "<matplotlib.axes._subplots.AxesSubplot at 0x7f6a3c5b4210>"
            ]
          },
          "metadata": {},
          "execution_count": 19
        },
        {
          "output_type": "display_data",
          "data": {
            "image/png": "[encoded data removed]",
            "text/plain": [
              "<Figure size 432x288 with 1 Axes>"
            ]
          },
          "metadata": {
            "needs_background": "light"
          }
        }
      ]
    },
    {
      "cell_type": "code",
      "metadata": {
        "id": "382EMXKAHGn7"
      },
      "source": [
        "# limit to ST-PENN STA at turnstile level\n",
        "STPENN = df[df['STATION'] == '34 ST-PENN STA']"
      ],
      "execution_count": 20,
      "outputs": []
    },
    {
      "cell_type": "code",
      "metadata": {
        "colab": {
          "base_uri": "https://localhost:8080/"
        },
        "id": "X9SHjoY1HGn7",
        "outputId": "9be80b8a-3497-443a-b1ad-72eb84f30b74"
      },
      "source": [
        "STPENN.shape"
      ],
      "execution_count": 21,
      "outputs": [
        {
          "output_type": "execute_result",
          "data": {
            "text/plain": [
              "(52967, 11)"
            ]
          },
          "metadata": {},
          "execution_count": 21
        }
      ]
    },
    {
      "cell_type": "code",
      "metadata": {
        "colab": {
          "base_uri": "https://localhost:8080/",
          "height": 236
        },
        "id": "bC0FBCNcHGn7",
        "outputId": "809f5fe5-f5ed-43e9-aeea-ca58527db78b"
      },
      "source": [
        "STPENN.tail()"
      ],
      "execution_count": 22,
      "outputs": [
        {
          "output_type": "execute_result",
          "data": {
            "text/html": [
              "<div>\n",
              "<style scoped>\n",
              "    .dataframe tbody tr th:only-of-type {\n",
              "        vertical-align: middle;\n",
              "    }\n",
              "\n",
              "    .dataframe tbody tr th {\n",
              "        vertical-align: top;\n",
              "    }\n",
              "\n",
              "    .dataframe thead th {\n",
              "        text-align: right;\n",
              "    }\n",
              "</style>\n",
              "<table border=\"1\" class=\"dataframe\">\n",
              "  <thead>\n",
              "    <tr style=\"text-align: right;\">\n",
              "      <th></th>\n",
              "      <th>C/A</th>\n",
              "      <th>UNIT</th>\n",
              "      <th>SCP</th>\n",
              "      <th>STATION</th>\n",
              "      <th>LINENAME</th>\n",
              "      <th>DIVISION</th>\n",
              "      <th>DATE</th>\n",
              "      <th>TIME</th>\n",
              "      <th>DESC</th>\n",
              "      <th>ENTRIES</th>\n",
              "      <th>EXITS</th>\n",
              "    </tr>\n",
              "    <tr>\n",
              "      <th>DATETIME</th>\n",
              "      <th></th>\n",
              "      <th></th>\n",
              "      <th></th>\n",
              "      <th></th>\n",
              "      <th></th>\n",
              "      <th></th>\n",
              "      <th></th>\n",
              "      <th></th>\n",
              "      <th></th>\n",
              "      <th></th>\n",
              "      <th></th>\n",
              "    </tr>\n",
              "  </thead>\n",
              "  <tbody>\n",
              "    <tr>\n",
              "      <th>2019-03-29 06:00:00</th>\n",
              "      <td>R142</td>\n",
              "      <td>R293</td>\n",
              "      <td>01-06-01</td>\n",
              "      <td>34 ST-PENN STA</td>\n",
              "      <td>123ACE</td>\n",
              "      <td>IRT</td>\n",
              "      <td>03/29/2019</td>\n",
              "      <td>06:00:00</td>\n",
              "      <td>REGULAR</td>\n",
              "      <td>67824913</td>\n",
              "      <td>18271596</td>\n",
              "    </tr>\n",
              "    <tr>\n",
              "      <th>2019-03-29 10:00:00</th>\n",
              "      <td>R142</td>\n",
              "      <td>R293</td>\n",
              "      <td>01-06-01</td>\n",
              "      <td>34 ST-PENN STA</td>\n",
              "      <td>123ACE</td>\n",
              "      <td>IRT</td>\n",
              "      <td>03/29/2019</td>\n",
              "      <td>10:00:00</td>\n",
              "      <td>REGULAR</td>\n",
              "      <td>67824982</td>\n",
              "      <td>18272068</td>\n",
              "    </tr>\n",
              "    <tr>\n",
              "      <th>2019-03-29 14:00:00</th>\n",
              "      <td>R142</td>\n",
              "      <td>R293</td>\n",
              "      <td>01-06-01</td>\n",
              "      <td>34 ST-PENN STA</td>\n",
              "      <td>123ACE</td>\n",
              "      <td>IRT</td>\n",
              "      <td>03/29/2019</td>\n",
              "      <td>14:00:00</td>\n",
              "      <td>REGULAR</td>\n",
              "      <td>67825181</td>\n",
              "      <td>18272486</td>\n",
              "    </tr>\n",
              "    <tr>\n",
              "      <th>2019-03-29 18:00:00</th>\n",
              "      <td>R142</td>\n",
              "      <td>R293</td>\n",
              "      <td>01-06-01</td>\n",
              "      <td>34 ST-PENN STA</td>\n",
              "      <td>123ACE</td>\n",
              "      <td>IRT</td>\n",
              "      <td>03/29/2019</td>\n",
              "      <td>18:00:00</td>\n",
              "      <td>REGULAR</td>\n",
              "      <td>67825404</td>\n",
              "      <td>18272886</td>\n",
              "    </tr>\n",
              "    <tr>\n",
              "      <th>2019-03-29 22:00:00</th>\n",
              "      <td>R142</td>\n",
              "      <td>R293</td>\n",
              "      <td>01-06-01</td>\n",
              "      <td>34 ST-PENN STA</td>\n",
              "      <td>123ACE</td>\n",
              "      <td>IRT</td>\n",
              "      <td>03/29/2019</td>\n",
              "      <td>22:00:00</td>\n",
              "      <td>REGULAR</td>\n",
              "      <td>67825612</td>\n",
              "      <td>18273157</td>\n",
              "    </tr>\n",
              "  </tbody>\n",
              "</table>\n",
              "</div>"
            ],
            "text/plain": [
              "                      C/A  UNIT       SCP  ...     DESC   ENTRIES     EXITS\n",
              "DATETIME                                   ...                             \n",
              "2019-03-29 06:00:00  R142  R293  01-06-01  ...  REGULAR  67824913  18271596\n",
              "2019-03-29 10:00:00  R142  R293  01-06-01  ...  REGULAR  67824982  18272068\n",
              "2019-03-29 14:00:00  R142  R293  01-06-01  ...  REGULAR  67825181  18272486\n",
              "2019-03-29 18:00:00  R142  R293  01-06-01  ...  REGULAR  67825404  18272886\n",
              "2019-03-29 22:00:00  R142  R293  01-06-01  ...  REGULAR  67825612  18273157\n",
              "\n",
              "[5 rows x 11 columns]"
            ]
          },
          "metadata": {},
          "execution_count": 22
        }
      ]
    },
    {
      "cell_type": "code",
      "metadata": {
        "id": "yXG22v6yrR1-"
      },
      "source": [
        "turnstiles = STPENN['SCP'].unique()"
      ],
      "execution_count": 23,
      "outputs": []
    },
    {
      "cell_type": "code",
      "metadata": {
        "colab": {
          "base_uri": "https://localhost:8080/"
        },
        "id": "Jzy0ZrKCrrp9",
        "outputId": "a39dd271-c38f-4d3f-e9da-f4c4b8fb808f"
      },
      "source": [
        "masked_dfs = []\n",
        "for i in turnstiles:\n",
        "    mask = STPENN[((STPENN[\"C/A\"] == \"R142\") &\n",
        "    (STPENN[\"UNIT\"] == \"R293\") &\n",
        "    (STPENN[\"SCP\"] ==  i) &\n",
        "    (STPENN[\"STATION\"] == \"34 ST-PENN STA\"))]\n",
        "           \n",
        "    mask['DIFFS'] = mask['ENTRIES'].diff()\n",
        "    masked_dfs.append(mask)"
      ],
      "execution_count": 24,
      "outputs": [
        {
          "output_type": "stream",
          "name": "stderr",
          "text": [
            "/usr/local/lib/python3.7/dist-packages/ipykernel_launcher.py:8: SettingWithCopyWarning: \n",
            "A value is trying to be set on a copy of a slice from a DataFrame.\n",
            "Try using .loc[row_indexer,col_indexer] = value instead\n",
            "\n",
            "See the caveats in the documentation: https://pandas.pydata.org/pandas-docs/stable/user_guide/indexing.html#returning-a-view-versus-a-copy\n",
            "  \n"
          ]
        }
      ]
    },
    {
      "cell_type": "code",
      "metadata": {
        "id": "FDGjbQYesGx3"
      },
      "source": [
        "entries_turn = pd.concat(masked_dfs)"
      ],
      "execution_count": 25,
      "outputs": []
    },
    {
      "cell_type": "code",
      "metadata": {
        "colab": {
          "base_uri": "https://localhost:8080/",
          "height": 236
        },
        "id": "HKhd03BNHGn8",
        "outputId": "d04f4b8b-8707-4627-9e68-166975d411dc"
      },
      "source": [
        "entries_turn.head()"
      ],
      "execution_count": 26,
      "outputs": [
        {
          "output_type": "execute_result",
          "data": {
            "text/html": [
              "<div>\n",
              "<style scoped>\n",
              "    .dataframe tbody tr th:only-of-type {\n",
              "        vertical-align: middle;\n",
              "    }\n",
              "\n",
              "    .dataframe tbody tr th {\n",
              "        vertical-align: top;\n",
              "    }\n",
              "\n",
              "    .dataframe thead th {\n",
              "        text-align: right;\n",
              "    }\n",
              "</style>\n",
              "<table border=\"1\" class=\"dataframe\">\n",
              "  <thead>\n",
              "    <tr style=\"text-align: right;\">\n",
              "      <th></th>\n",
              "      <th>C/A</th>\n",
              "      <th>UNIT</th>\n",
              "      <th>SCP</th>\n",
              "      <th>STATION</th>\n",
              "      <th>LINENAME</th>\n",
              "      <th>DIVISION</th>\n",
              "      <th>DATE</th>\n",
              "      <th>TIME</th>\n",
              "      <th>DESC</th>\n",
              "      <th>ENTRIES</th>\n",
              "      <th>EXITS</th>\n",
              "      <th>DIFFS</th>\n",
              "    </tr>\n",
              "    <tr>\n",
              "      <th>DATETIME</th>\n",
              "      <th></th>\n",
              "      <th></th>\n",
              "      <th></th>\n",
              "      <th></th>\n",
              "      <th></th>\n",
              "      <th></th>\n",
              "      <th></th>\n",
              "      <th></th>\n",
              "      <th></th>\n",
              "      <th></th>\n",
              "      <th></th>\n",
              "      <th></th>\n",
              "    </tr>\n",
              "  </thead>\n",
              "  <tbody>\n",
              "    <tr>\n",
              "      <th>2018-12-29 01:00:00</th>\n",
              "      <td>R142</td>\n",
              "      <td>R293</td>\n",
              "      <td>01-00-00</td>\n",
              "      <td>34 ST-PENN STA</td>\n",
              "      <td>123ACE</td>\n",
              "      <td>IRT</td>\n",
              "      <td>12/29/2018</td>\n",
              "      <td>01:00:00</td>\n",
              "      <td>REGULAR</td>\n",
              "      <td>10405381</td>\n",
              "      <td>8124578</td>\n",
              "      <td>NaN</td>\n",
              "    </tr>\n",
              "    <tr>\n",
              "      <th>2018-12-29 05:00:00</th>\n",
              "      <td>R142</td>\n",
              "      <td>R293</td>\n",
              "      <td>01-00-00</td>\n",
              "      <td>34 ST-PENN STA</td>\n",
              "      <td>123ACE</td>\n",
              "      <td>IRT</td>\n",
              "      <td>12/29/2018</td>\n",
              "      <td>05:00:00</td>\n",
              "      <td>REGULAR</td>\n",
              "      <td>10405388</td>\n",
              "      <td>8124601</td>\n",
              "      <td>7.0</td>\n",
              "    </tr>\n",
              "    <tr>\n",
              "      <th>2018-12-29 09:00:00</th>\n",
              "      <td>R142</td>\n",
              "      <td>R293</td>\n",
              "      <td>01-00-00</td>\n",
              "      <td>34 ST-PENN STA</td>\n",
              "      <td>123ACE</td>\n",
              "      <td>IRT</td>\n",
              "      <td>12/29/2018</td>\n",
              "      <td>09:00:00</td>\n",
              "      <td>REGULAR</td>\n",
              "      <td>10405434</td>\n",
              "      <td>8124675</td>\n",
              "      <td>46.0</td>\n",
              "    </tr>\n",
              "    <tr>\n",
              "      <th>2018-12-29 13:00:00</th>\n",
              "      <td>R142</td>\n",
              "      <td>R293</td>\n",
              "      <td>01-00-00</td>\n",
              "      <td>34 ST-PENN STA</td>\n",
              "      <td>123ACE</td>\n",
              "      <td>IRT</td>\n",
              "      <td>12/29/2018</td>\n",
              "      <td>13:00:00</td>\n",
              "      <td>REGULAR</td>\n",
              "      <td>10405614</td>\n",
              "      <td>8124907</td>\n",
              "      <td>180.0</td>\n",
              "    </tr>\n",
              "    <tr>\n",
              "      <th>2018-12-29 17:00:00</th>\n",
              "      <td>R142</td>\n",
              "      <td>R293</td>\n",
              "      <td>01-00-00</td>\n",
              "      <td>34 ST-PENN STA</td>\n",
              "      <td>123ACE</td>\n",
              "      <td>IRT</td>\n",
              "      <td>12/29/2018</td>\n",
              "      <td>17:00:00</td>\n",
              "      <td>REGULAR</td>\n",
              "      <td>10405938</td>\n",
              "      <td>8125275</td>\n",
              "      <td>324.0</td>\n",
              "    </tr>\n",
              "  </tbody>\n",
              "</table>\n",
              "</div>"
            ],
            "text/plain": [
              "                      C/A  UNIT       SCP  ...   ENTRIES    EXITS  DIFFS\n",
              "DATETIME                                   ...                          \n",
              "2018-12-29 01:00:00  R142  R293  01-00-00  ...  10405381  8124578    NaN\n",
              "2018-12-29 05:00:00  R142  R293  01-00-00  ...  10405388  8124601    7.0\n",
              "2018-12-29 09:00:00  R142  R293  01-00-00  ...  10405434  8124675   46.0\n",
              "2018-12-29 13:00:00  R142  R293  01-00-00  ...  10405614  8124907  180.0\n",
              "2018-12-29 17:00:00  R142  R293  01-00-00  ...  10405938  8125275  324.0\n",
              "\n",
              "[5 rows x 12 columns]"
            ]
          },
          "metadata": {},
          "execution_count": 26
        }
      ]
    },
    {
      "cell_type": "code",
      "metadata": {
        "id": "djFtQCmPHGn8"
      },
      "source": [
        "#remove NaN values and negative values (i.e. counter resets)\n",
        "entries_turn.dropna(inplace=True)\n",
        "entries_turn = entries_turn[entries_turn['DIFFS'] >= 0]"
      ],
      "execution_count": 27,
      "outputs": []
    },
    {
      "cell_type": "code",
      "metadata": {
        "colab": {
          "base_uri": "https://localhost:8080/",
          "height": 236
        },
        "id": "0S_3a0rCHGn8",
        "outputId": "948e409c-7f4a-4b45-e692-47376ba3f93d"
      },
      "source": [
        "# now have turnstile Entries per four period (diffs column)\n",
        "entries_turn.tail()"
      ],
      "execution_count": 28,
      "outputs": [
        {
          "output_type": "execute_result",
          "data": {
            "text/html": [
              "<div>\n",
              "<style scoped>\n",
              "    .dataframe tbody tr th:only-of-type {\n",
              "        vertical-align: middle;\n",
              "    }\n",
              "\n",
              "    .dataframe tbody tr th {\n",
              "        vertical-align: top;\n",
              "    }\n",
              "\n",
              "    .dataframe thead th {\n",
              "        text-align: right;\n",
              "    }\n",
              "</style>\n",
              "<table border=\"1\" class=\"dataframe\">\n",
              "  <thead>\n",
              "    <tr style=\"text-align: right;\">\n",
              "      <th></th>\n",
              "      <th>C/A</th>\n",
              "      <th>UNIT</th>\n",
              "      <th>SCP</th>\n",
              "      <th>STATION</th>\n",
              "      <th>LINENAME</th>\n",
              "      <th>DIVISION</th>\n",
              "      <th>DATE</th>\n",
              "      <th>TIME</th>\n",
              "      <th>DESC</th>\n",
              "      <th>ENTRIES</th>\n",
              "      <th>EXITS</th>\n",
              "      <th>DIFFS</th>\n",
              "    </tr>\n",
              "    <tr>\n",
              "      <th>DATETIME</th>\n",
              "      <th></th>\n",
              "      <th></th>\n",
              "      <th></th>\n",
              "      <th></th>\n",
              "      <th></th>\n",
              "      <th></th>\n",
              "      <th></th>\n",
              "      <th></th>\n",
              "      <th></th>\n",
              "      <th></th>\n",
              "      <th></th>\n",
              "      <th></th>\n",
              "    </tr>\n",
              "  </thead>\n",
              "  <tbody>\n",
              "    <tr>\n",
              "      <th>2019-03-29 06:00:00</th>\n",
              "      <td>R142</td>\n",
              "      <td>R293</td>\n",
              "      <td>01-06-01</td>\n",
              "      <td>34 ST-PENN STA</td>\n",
              "      <td>123ACE</td>\n",
              "      <td>IRT</td>\n",
              "      <td>03/29/2019</td>\n",
              "      <td>06:00:00</td>\n",
              "      <td>REGULAR</td>\n",
              "      <td>67824913</td>\n",
              "      <td>18271596</td>\n",
              "      <td>4.0</td>\n",
              "    </tr>\n",
              "    <tr>\n",
              "      <th>2019-03-29 10:00:00</th>\n",
              "      <td>R142</td>\n",
              "      <td>R293</td>\n",
              "      <td>01-06-01</td>\n",
              "      <td>34 ST-PENN STA</td>\n",
              "      <td>123ACE</td>\n",
              "      <td>IRT</td>\n",
              "      <td>03/29/2019</td>\n",
              "      <td>10:00:00</td>\n",
              "      <td>REGULAR</td>\n",
              "      <td>67824982</td>\n",
              "      <td>18272068</td>\n",
              "      <td>69.0</td>\n",
              "    </tr>\n",
              "    <tr>\n",
              "      <th>2019-03-29 14:00:00</th>\n",
              "      <td>R142</td>\n",
              "      <td>R293</td>\n",
              "      <td>01-06-01</td>\n",
              "      <td>34 ST-PENN STA</td>\n",
              "      <td>123ACE</td>\n",
              "      <td>IRT</td>\n",
              "      <td>03/29/2019</td>\n",
              "      <td>14:00:00</td>\n",
              "      <td>REGULAR</td>\n",
              "      <td>67825181</td>\n",
              "      <td>18272486</td>\n",
              "      <td>199.0</td>\n",
              "    </tr>\n",
              "    <tr>\n",
              "      <th>2019-03-29 18:00:00</th>\n",
              "      <td>R142</td>\n",
              "      <td>R293</td>\n",
              "      <td>01-06-01</td>\n",
              "      <td>34 ST-PENN STA</td>\n",
              "      <td>123ACE</td>\n",
              "      <td>IRT</td>\n",
              "      <td>03/29/2019</td>\n",
              "      <td>18:00:00</td>\n",
              "      <td>REGULAR</td>\n",
              "      <td>67825404</td>\n",
              "      <td>18272886</td>\n",
              "      <td>223.0</td>\n",
              "    </tr>\n",
              "    <tr>\n",
              "      <th>2019-03-29 22:00:00</th>\n",
              "      <td>R142</td>\n",
              "      <td>R293</td>\n",
              "      <td>01-06-01</td>\n",
              "      <td>34 ST-PENN STA</td>\n",
              "      <td>123ACE</td>\n",
              "      <td>IRT</td>\n",
              "      <td>03/29/2019</td>\n",
              "      <td>22:00:00</td>\n",
              "      <td>REGULAR</td>\n",
              "      <td>67825612</td>\n",
              "      <td>18273157</td>\n",
              "      <td>208.0</td>\n",
              "    </tr>\n",
              "  </tbody>\n",
              "</table>\n",
              "</div>"
            ],
            "text/plain": [
              "                      C/A  UNIT       SCP  ...   ENTRIES     EXITS  DIFFS\n",
              "DATETIME                                   ...                           \n",
              "2019-03-29 06:00:00  R142  R293  01-06-01  ...  67824913  18271596    4.0\n",
              "2019-03-29 10:00:00  R142  R293  01-06-01  ...  67824982  18272068   69.0\n",
              "2019-03-29 14:00:00  R142  R293  01-06-01  ...  67825181  18272486  199.0\n",
              "2019-03-29 18:00:00  R142  R293  01-06-01  ...  67825404  18272886  223.0\n",
              "2019-03-29 22:00:00  R142  R293  01-06-01  ...  67825612  18273157  208.0\n",
              "\n",
              "[5 rows x 12 columns]"
            ]
          },
          "metadata": {},
          "execution_count": 28
        }
      ]
    },
    {
      "cell_type": "code",
      "metadata": {
        "id": "sVDm7ys6HGn9"
      },
      "source": [
        "# add Entries across turnstiles by time\n",
        "entries_turn = entries_turn.reset_index()\n",
        "ct = entries_turn.groupby(['DATETIME'])['DIFFS'].sum().reset_index()\n",
        "#ct.drop(ct.index.month == 12, inplace= True)\n"
      ],
      "execution_count": 29,
      "outputs": []
    },
    {
      "cell_type": "code",
      "metadata": {
        "colab": {
          "base_uri": "https://localhost:8080/",
          "height": 236
        },
        "id": "DX5UNW8fHGn9",
        "outputId": "f43ab060-6d87-43d4-e671-1dab6540434c"
      },
      "source": [
        "ct.set_index(['DATETIME'], inplace=True)\n",
        "ct.head()"
      ],
      "execution_count": 30,
      "outputs": [
        {
          "output_type": "execute_result",
          "data": {
            "text/html": [
              "<div>\n",
              "<style scoped>\n",
              "    .dataframe tbody tr th:only-of-type {\n",
              "        vertical-align: middle;\n",
              "    }\n",
              "\n",
              "    .dataframe tbody tr th {\n",
              "        vertical-align: top;\n",
              "    }\n",
              "\n",
              "    .dataframe thead th {\n",
              "        text-align: right;\n",
              "    }\n",
              "</style>\n",
              "<table border=\"1\" class=\"dataframe\">\n",
              "  <thead>\n",
              "    <tr style=\"text-align: right;\">\n",
              "      <th></th>\n",
              "      <th>DIFFS</th>\n",
              "    </tr>\n",
              "    <tr>\n",
              "      <th>DATETIME</th>\n",
              "      <th></th>\n",
              "    </tr>\n",
              "  </thead>\n",
              "  <tbody>\n",
              "    <tr>\n",
              "      <th>2018-12-29 05:00:00</th>\n",
              "      <td>99.0</td>\n",
              "    </tr>\n",
              "    <tr>\n",
              "      <th>2018-12-29 09:00:00</th>\n",
              "      <td>302.0</td>\n",
              "    </tr>\n",
              "    <tr>\n",
              "      <th>2018-12-29 13:00:00</th>\n",
              "      <td>1107.0</td>\n",
              "    </tr>\n",
              "    <tr>\n",
              "      <th>2018-12-29 17:00:00</th>\n",
              "      <td>1557.0</td>\n",
              "    </tr>\n",
              "    <tr>\n",
              "      <th>2018-12-29 21:00:00</th>\n",
              "      <td>1342.0</td>\n",
              "    </tr>\n",
              "  </tbody>\n",
              "</table>\n",
              "</div>"
            ],
            "text/plain": [
              "                      DIFFS\n",
              "DATETIME                   \n",
              "2018-12-29 05:00:00    99.0\n",
              "2018-12-29 09:00:00   302.0\n",
              "2018-12-29 13:00:00  1107.0\n",
              "2018-12-29 17:00:00  1557.0\n",
              "2018-12-29 21:00:00  1342.0"
            ]
          },
          "metadata": {},
          "execution_count": 30
        }
      ]
    },
    {
      "cell_type": "code",
      "metadata": {
        "colab": {
          "base_uri": "https://localhost:8080/",
          "height": 296
        },
        "id": "_H23xr-kB92u",
        "outputId": "6834aed2-a452-422b-9c34-06e78eff8b56"
      },
      "source": [
        "jan = ct[(ct.index > '2019-01-01 00:00:00') & (ct.index < '2019-01-30 05:00:00')]\n",
        "feb = ct[(ct.index > '2019-02-01 00:00:00') & (ct.index < '2019-02-28 05:00:00')]\n",
        "mar = ct[(ct.index > '2019-03-01 00:00:00') & (ct.index < '2019-03-30 05:00:00')]\n",
        "sns.countplot(x= ct.index.month , data = ct )"
      ],
      "execution_count": 32,
      "outputs": [
        {
          "output_type": "execute_result",
          "data": {
            "text/plain": [
              "<matplotlib.axes._subplots.AxesSubplot at 0x7f6a3c52f750>"
            ]
          },
          "metadata": {},
          "execution_count": 32
        },
        {
          "output_type": "display_data",
          "data": {
            "image/png": "[encoded data removed]",
            "text/plain": [
              "<Figure size 432x288 with 1 Axes>"
            ]
          },
          "metadata": {
            "needs_background": "light"
          }
        }
      ]
    },
    {
      "cell_type": "code",
      "metadata": {
        "colab": {
          "base_uri": "https://localhost:8080/",
          "height": 296
        },
        "id": "ArP_c-1IyQL8",
        "outputId": "0f80159b-2772-4dce-83e5-58e091e778e8"
      },
      "source": [
        "jjj = ct[(ct.index > '2019-01-01 00:00:00') & (ct.index < '2019-01-7 05:00:00')]\n",
        "sns.countplot(x= ct.index.weekday , data = ct )\n",
        "\n"
      ],
      "execution_count": 33,
      "outputs": [
        {
          "output_type": "execute_result",
          "data": {
            "text/plain": [
              "<matplotlib.axes._subplots.AxesSubplot at 0x7f6a5219d8d0>"
            ]
          },
          "metadata": {},
          "execution_count": 33
        },
        {
          "output_type": "display_data",
          "data": {
            "image/png": "[encoded data removed]",
            "text/plain": [
              "<Figure size 432x288 with 1 Axes>"
            ]
          },
          "metadata": {
            "needs_background": "light"
          }
        }
      ]
    }
  ]
}